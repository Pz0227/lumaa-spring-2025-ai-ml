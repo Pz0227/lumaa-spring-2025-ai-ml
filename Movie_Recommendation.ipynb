{
 "cells": [
  {
   "cell_type": "markdown",
   "id": "66bda65f-140c-469c-a097-529fd1db1d7f",
   "metadata": {},
   "source": [
    "# Content-Based Movie Recommendation System\n",
    "\n",
    "## Overview\n",
    "This project builds a content-based recommendation system that suggests movies similar to a user’s input based on their preferences. The system uses a small dataset of movies and their descriptions to generate recommendations based on textual similarity.\n",
    "\n",
    "### About Dataset\n",
    "The dataset used in this project is **Top 100 Movies Dataset** from [IMDB](https://www.imdb.com/list/ls053251213/). The dataset contains information about movies including their descriptions, which will be used for similarity comparison.\n",
    "\n",
    "### Steps\n",
    "1. **Load the dataset** - Read the movie data from a CSV file.\n",
    "2. **Preprocess the text** - Clean movie descriptions by converting text to lowercase, removing special characters, tokenize words, and remove stopwords.\n",
    "3. **Convert text into numerical vectors** - Use TF-IDF to transform text descriptions into numerical format.\n",
    "4. **Compute similarity and Return top 5 recommendations** - Calculate cosine similarity between the user query and all movie descriptions, and retrieve the most relevant movie titles.\n",
    "\n",
    "## Step 1: Load the Dataset\n",
    "I start by loading the dataset and displaying a preview."
   ]
  },
  {
   "cell_type": "code",
   "execution_count": 2,
   "id": "3da9933c-bfe3-47e8-bdd3-b6beaff1ab62",
   "metadata": {},
   "outputs": [
    {
     "name": "stdout",
     "output_type": "stream",
     "text": [
      "['Position', 'Const', 'Created', 'Modified', 'Description', 'Title', 'Original Title', 'URL', 'Title Type', 'IMDb Rating', 'Runtime (mins)', 'Year', 'Genres', 'Num Votes', 'Release Date', 'Directors', 'Your Rating', 'Date Rated']\n",
      "\n",
      "\n",
      "[['1', 'tt0111161', '2013-06-24', '2013-06-24', '', 'The Shawshank Redemption', 'The Shawshank Redemption', 'https://www.imdb.com/title/tt0111161/', 'Movie', '9.3', '142', '1994', 'Drama', '3009964', '1994-10-14', 'Frank Darabont', '', ''], ['2', 'tt0110912', '2013-06-24', '2013-06-24', '', 'Pulp Fiction', 'Pulp Fiction', 'https://www.imdb.com/title/tt0110912/', 'Movie', '8.9', '154', '1994', 'Crime, Drama', '2308040', '1994-10-14', 'Quentin Tarantino', '', ''], ['3', 'tt0120689', '2013-06-24', '2013-06-24', '', 'The Green Mile', 'The Green Mile', 'https://www.imdb.com/title/tt0120689/', 'Movie', '8.6', '189', '1999', 'Crime, Drama, Fantasy, Mystery', '1469373', '1999-12-10', 'Frank Darabont', '', ''], ['4', 'tt0109830', '2013-06-24', '2013-06-24', '', 'Forrest Gump', 'Forrest Gump', 'https://www.imdb.com/title/tt0109830/', 'Movie', '8.8', '142', '1994', 'Drama, Romance', '2353685', '1994-07-06', 'Robert Zemeckis', '', ''], ['5', 'tt1403865', '2013-06-24', '2013-06-24', '', 'True Grit', 'True Grit', 'https://www.imdb.com/title/tt1403865/', 'Movie', '7.6', '110', '2010', 'Drama, Western', '364955', '2010-12-22', 'Ethan Coen, Joel Coen', '', '']]\n"
     ]
    },
    {
     "name": "stderr",
     "output_type": "stream",
     "text": [
      "[nltk_data] Downloading package stopwords to /Users/polly/nltk_data...\n",
      "[nltk_data]   Package stopwords is already up-to-date!\n",
      "[nltk_data] Downloading package punkt to /Users/polly/nltk_data...\n",
      "[nltk_data]   Package punkt is already up-to-date!\n"
     ]
    }
   ],
   "source": [
    "# Import necessary libraries\n",
    "import pandas as pd\n",
    "from csv import reader\n",
    "from sklearn.feature_extraction.text import TfidfVectorizer\n",
    "from sklearn.metrics.pairwise import cosine_similarity\n",
    "import re\n",
    "import nltk\n",
    "from nltk.corpus import stopwords\n",
    "\n",
    "# Download stopwords if not already downloaded\n",
    "nltk.download( 'stopwords' )\n",
    "nltk.download( 'punkt' )\n",
    "\n",
    "# Load dataset\n",
    "opened_file = open( 'Top_movies.csv' )\n",
    "read_file = reader( opened_file )\n",
    "movies_data = list( read_file )\n",
    "movies_header = movies_data[0]\n",
    "movies_data = movies_data[1:]\n",
    "\n",
    "# Check loading \n",
    "print ( movies_header )\n",
    "print ( '\\n' )\n",
    "print ( movies_data[:5] )"
   ]
  },
  {
   "cell_type": "markdown",
   "id": "a8bfa595-0f1f-406c-b3d9-6f25a883d200",
   "metadata": {},
   "source": [
    "## Step 2: Preprocess Text Data\n",
    "Perform text cleaning, including:\n",
    "- Converting text to lowercase\n",
    "- Removing special characters\n",
    "- Tokenizing words\n",
    "- Removing stopwords"
   ]
  },
  {
   "cell_type": "code",
   "execution_count": 4,
   "id": "0b912b09-fe83-4c20-9238-f8a322d63cf9",
   "metadata": {},
   "outputs": [
    {
     "name": "stdout",
     "output_type": "stream",
     "text": [
      "[['1', 'tt0111161', '2013-06-24', '2013-06-24', '', 'the shawshank redemption', 'The Shawshank Redemption', 'https://www.imdb.com/title/tt0111161/', 'Movie', '9.3', '142', '1994', 'drama', '3009964', '1994-10-14', 'Frank Darabont', '', ''], ['2', 'tt0110912', '2013-06-24', '2013-06-24', '', 'pulp fiction', 'Pulp Fiction', 'https://www.imdb.com/title/tt0110912/', 'Movie', '8.9', '154', '1994', 'crime, drama', '2308040', '1994-10-14', 'Quentin Tarantino', '', ''], ['3', 'tt0120689', '2013-06-24', '2013-06-24', '', 'the green mile', 'The Green Mile', 'https://www.imdb.com/title/tt0120689/', 'Movie', '8.6', '189', '1999', 'crime, drama, fantasy, mystery', '1469373', '1999-12-10', 'Frank Darabont', '', ''], ['4', 'tt0109830', '2013-06-24', '2013-06-24', '', 'forrest gump', 'Forrest Gump', 'https://www.imdb.com/title/tt0109830/', 'Movie', '8.8', '142', '1994', 'drama, romance', '2353685', '1994-07-06', 'Robert Zemeckis', '', ''], ['5', 'tt1403865', '2013-06-24', '2013-06-24', '', 'true grit', 'True Grit', 'https://www.imdb.com/title/tt1403865/', 'Movie', '7.6', '110', '2010', 'drama, western', '364955', '2010-12-22', 'Ethan Coen, Joel Coen', '', '']]\n"
     ]
    }
   ],
   "source": [
    "# Function to convert text to lowercase\n",
    "def to_lowercase( text ):\n",
    "    return str( text ).lower()\n",
    "\n",
    "# Apply transformation to title and genre columns\n",
    "for row in movies_data:\n",
    "    row[5] = to_lowercase( row[5] )  # Title\n",
    "    row[12] = to_lowercase( row[12] )  # Genre\n",
    "\n",
    "# Check transformation\n",
    "print ( movies_data[:5] )"
   ]
  },
  {
   "cell_type": "code",
   "execution_count": 5,
   "id": "9581c534-efe4-43b1-9fe0-95a9d9414b0c",
   "metadata": {},
   "outputs": [
    {
     "name": "stdout",
     "output_type": "stream",
     "text": [
      "[['1', 'tt0111161', '2013-06-24', '2013-06-24', '', 'the shawshank redemption', 'The Shawshank Redemption', 'https://www.imdb.com/title/tt0111161/', 'Movie', '9.3', '142', '1994', 'drama', '3009964', '1994-10-14', 'Frank Darabont', '', ''], ['2', 'tt0110912', '2013-06-24', '2013-06-24', '', 'pulp fiction', 'Pulp Fiction', 'https://www.imdb.com/title/tt0110912/', 'Movie', '8.9', '154', '1994', 'crime, drama', '2308040', '1994-10-14', 'Quentin Tarantino', '', ''], ['3', 'tt0120689', '2013-06-24', '2013-06-24', '', 'the green mile', 'The Green Mile', 'https://www.imdb.com/title/tt0120689/', 'Movie', '8.6', '189', '1999', 'crime, drama, fantasy, mystery', '1469373', '1999-12-10', 'Frank Darabont', '', ''], ['4', 'tt0109830', '2013-06-24', '2013-06-24', '', 'forrest gump', 'Forrest Gump', 'https://www.imdb.com/title/tt0109830/', 'Movie', '8.8', '142', '1994', 'drama, romance', '2353685', '1994-07-06', 'Robert Zemeckis', '', ''], ['5', 'tt1403865', '2013-06-24', '2013-06-24', '', 'true grit', 'True Grit', 'https://www.imdb.com/title/tt1403865/', 'Movie', '7.6', '110', '2010', 'drama, western', '364955', '2010-12-22', 'Ethan Coen, Joel Coen', '', '']]\n"
     ]
    }
   ],
   "source": [
    "# Function to remove special characters from text\n",
    "def remove_special_chars(text):\n",
    "    return re.sub( r'[^a-zA-Z0-9\\s]', '', text )\n",
    "\n",
    "# Apply transformation to title column\n",
    "for row in movies_data:\n",
    "    row[5] = remove_special_chars( row[5] )\n",
    "\n",
    "# Check transformation\n",
    "print ( movies_data[:5] )"
   ]
  },
  {
   "cell_type": "code",
   "execution_count": 6,
   "id": "73636b48-7435-4960-b2c4-1bee2ff3807d",
   "metadata": {},
   "outputs": [
    {
     "name": "stdout",
     "output_type": "stream",
     "text": [
      "[['1', 'tt0111161', '2013-06-24', '2013-06-24', '', ['the', 'shawshank', 'redemption'], 'The Shawshank Redemption', 'https://www.imdb.com/title/tt0111161/', 'Movie', '9.3', '142', '1994', 'drama', '3009964', '1994-10-14', 'Frank Darabont', '', ''], ['2', 'tt0110912', '2013-06-24', '2013-06-24', '', ['pulp', 'fiction'], 'Pulp Fiction', 'https://www.imdb.com/title/tt0110912/', 'Movie', '8.9', '154', '1994', 'crime, drama', '2308040', '1994-10-14', 'Quentin Tarantino', '', ''], ['3', 'tt0120689', '2013-06-24', '2013-06-24', '', ['the', 'green', 'mile'], 'The Green Mile', 'https://www.imdb.com/title/tt0120689/', 'Movie', '8.6', '189', '1999', 'crime, drama, fantasy, mystery', '1469373', '1999-12-10', 'Frank Darabont', '', ''], ['4', 'tt0109830', '2013-06-24', '2013-06-24', '', ['forrest', 'gump'], 'Forrest Gump', 'https://www.imdb.com/title/tt0109830/', 'Movie', '8.8', '142', '1994', 'drama, romance', '2353685', '1994-07-06', 'Robert Zemeckis', '', ''], ['5', 'tt1403865', '2013-06-24', '2013-06-24', '', ['true', 'grit'], 'True Grit', 'https://www.imdb.com/title/tt1403865/', 'Movie', '7.6', '110', '2010', 'drama, western', '364955', '2010-12-22', 'Ethan Coen, Joel Coen', '', '']]\n"
     ]
    }
   ],
   "source": [
    "# Function to tokenize words (fallback approach using split)\n",
    "def tokenize_text( text ):\n",
    "    return text.split()  # Splitting by spaces\n",
    "\n",
    "# Apply transformation to title column\n",
    "for row in movies_data:\n",
    "    row[5] = tokenize_text( row[5] )\n",
    "    \n",
    "# Check transformation\n",
    "print( movies_data[:5] )"
   ]
  },
  {
   "cell_type": "code",
   "execution_count": 7,
   "id": "4287c59c-9409-4b2f-a8c5-a244764991ab",
   "metadata": {},
   "outputs": [
    {
     "name": "stdout",
     "output_type": "stream",
     "text": [
      "[['1', 'tt0111161', '2013-06-24', '2013-06-24', '', ['shawshank', 'redemption'], 'The Shawshank Redemption', 'https://www.imdb.com/title/tt0111161/', 'Movie', '9.3', '142', '1994', 'drama', '3009964', '1994-10-14', 'Frank Darabont', '', ''], ['2', 'tt0110912', '2013-06-24', '2013-06-24', '', ['pulp', 'fiction'], 'Pulp Fiction', 'https://www.imdb.com/title/tt0110912/', 'Movie', '8.9', '154', '1994', 'crime, drama', '2308040', '1994-10-14', 'Quentin Tarantino', '', ''], ['3', 'tt0120689', '2013-06-24', '2013-06-24', '', ['green', 'mile'], 'The Green Mile', 'https://www.imdb.com/title/tt0120689/', 'Movie', '8.6', '189', '1999', 'crime, drama, fantasy, mystery', '1469373', '1999-12-10', 'Frank Darabont', '', ''], ['4', 'tt0109830', '2013-06-24', '2013-06-24', '', ['forrest', 'gump'], 'Forrest Gump', 'https://www.imdb.com/title/tt0109830/', 'Movie', '8.8', '142', '1994', 'drama, romance', '2353685', '1994-07-06', 'Robert Zemeckis', '', ''], ['5', 'tt1403865', '2013-06-24', '2013-06-24', '', ['true', 'grit'], 'True Grit', 'https://www.imdb.com/title/tt1403865/', 'Movie', '7.6', '110', '2010', 'drama, western', '364955', '2010-12-22', 'Ethan Coen, Joel Coen', '', '']]\n"
     ]
    }
   ],
   "source": [
    "# Function to remove stopwords from tokenized text\n",
    "def remove_stopwords( tokenized_text ):\n",
    "    return [ word for word in tokenized_text if word not in stop_words ]\n",
    "\n",
    "# Manually provide stopwords fallback in case NLTK resources are unavailable\n",
    "try:\n",
    "    stop_words = set( stopwords.words('english') )\n",
    "except:\n",
    "    stop_words = { \"the\", \"a\", \"an\", \"in\", \"on\", \"at\", \"to\", \"is\", \"and\", \"it\", \"of\", \"for\", \"with\", \"as\", \"by\", \"this\", \"that\" }\n",
    "\n",
    "# Apply transformation to title column\n",
    "for row in movies_data:\n",
    "    row[5] = remove_stopwords( row[5] )\n",
    "\n",
    "# Check transformation\n",
    "print( movies_data[:5] )"
   ]
  },
  {
   "cell_type": "markdown",
   "id": "ea3e2d52-25a9-4f40-b448-72cd3d2ae6f8",
   "metadata": {},
   "source": [
    "## Step 3: Vectorize Text Using TF-IDF\n",
    "Transform the cleaned text descriptions into numerical format using TF-IDF."
   ]
  },
  {
   "cell_type": "code",
   "execution_count": 9,
   "id": "dafcb53d-1a6b-4acc-82c1-31753e5eb7c7",
   "metadata": {},
   "outputs": [],
   "source": [
    "# Convert genre text into TF-IDF format\n",
    "genres_cleaned = [row[12] for row in movies_data]\n",
    "genre_vectorizer = TfidfVectorizer()\n",
    "tfidf_genre_matrix = genre_vectorizer.fit_transform( genres_cleaned )"
   ]
  },
  {
   "cell_type": "markdown",
   "id": "8fa6da77-346a-420d-822a-69cb8663cb30",
   "metadata": {},
   "source": [
    "## Step 4: Compute Similarity & Recommend Movies\n",
    "Compare the user’s input with movie descriptions using cosine similarity and return the most relevant matches."
   ]
  },
  {
   "cell_type": "code",
   "execution_count": 19,
   "id": "7dd9bd72-31d2-498c-a18e-e63600dacafb",
   "metadata": {},
   "outputs": [
    {
     "name": "stdin",
     "output_type": "stream",
     "text": [
      "Enter movie preferences:  horror\n"
     ]
    },
    {
     "name": "stdout",
     "output_type": "stream",
     "text": [
      "('Dawn of the Dead', 'https://www.imdb.com/title/tt0363547/')\n",
      "('Tucker and Dale vs Evil', 'https://www.imdb.com/title/tt1465522/')\n",
      "('Shaun of the Dead', 'https://www.imdb.com/title/tt0365748/')\n",
      "('Insidious', 'https://www.imdb.com/title/tt1591095/')\n",
      "('The Mothman Prophecies', 'https://www.imdb.com/title/tt0265349/')\n"
     ]
    }
   ],
   "source": [
    "# Function to recommend movies based on user input using genre similarity\n",
    "def recommend_movies_by_genre(user_input, top_n=5):\n",
    "    # Preprocess user input\n",
    "    user_input_processed = \" \".join(remove_stopwords(user_input.lower().split()))\n",
    "    \n",
    "    # Transform user input into TF-IDF vector\n",
    "    user_vec = genre_vectorizer.transform([user_input_processed])\n",
    "    \n",
    "    # Compute cosine similarity between user input and movie genres\n",
    "    similarities = cosine_similarity(user_vec, tfidf_genre_matrix).flatten()\n",
    "    \n",
    "    # Get top N indices with highest similarity scores\n",
    "    top_indices = similarities.argsort()[-top_n:][::-1]\n",
    "    \n",
    "    # Retrieve recommended movies with only name and link\n",
    "    recommendations = [(movies_data[i][6], movies_data[i][7]) for i in top_indices]  # Index 6 = title, 7 = link\n",
    "    \n",
    "    return recommendations\n",
    "\n",
    "# Allow user input\n",
    "user_query = input(\"Enter movie preferences: \")\n",
    "\n",
    "# Get recommendations\n",
    "recommended_movies = recommend_movies_by_genre(user_query)\n",
    "\n",
    "# Display top 5 recommended movies (Title and Link)\n",
    "for movie in recommended_movies:\n",
    "    print(movie)"
   ]
  },
  {
   "cell_type": "code",
   "execution_count": null,
   "id": "6dd74d18-2bbe-41fe-b9ec-035884622606",
   "metadata": {},
   "outputs": [],
   "source": []
  }
 ],
 "metadata": {
  "kernelspec": {
   "display_name": "Python [conda env:base] *",
   "language": "python",
   "name": "conda-base-py"
  },
  "language_info": {
   "codemirror_mode": {
    "name": "ipython",
    "version": 3
   },
   "file_extension": ".py",
   "mimetype": "text/x-python",
   "name": "python",
   "nbconvert_exporter": "python",
   "pygments_lexer": "ipython3",
   "version": "3.12.7"
  }
 },
 "nbformat": 4,
 "nbformat_minor": 5
}
